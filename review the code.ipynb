{
 "cells": [
  {
   "cell_type": "code",
   "execution_count": 6,
   "id": "4280d886-00db-4056-939a-fe374d946111",
   "metadata": {},
   "outputs": [
    {
     "name": "stdout",
     "output_type": "stream",
     "text": [
      "content='{\\n  \"errors\": [],\\n  \"suggestions\": [\\n    \"Consider adding type annotations for function arguments and return value.\",\\n    \"Add a docstring to describe the function\\'s purpose, arguments, and return value.\"\\n  ],\\n  \"optimized_code\": \"def add(a: float, b: float) -> float:\\\\n    \\\\\"\\\\\"\\\\\"Add two numbers.\\\\n\\\\nArgs:\\\\n    a (float): The first number.\\\\n    b (float): The second number.\\\\n\\\\nReturns:\\\\n    float: The sum of a and b.\\\\\"\\\\\"\\\\\"\\\\n    return a + b\"\\n}' additional_kwargs={} response_metadata={'token_usage': {'completion_tokens': 142, 'prompt_tokens': 120, 'total_tokens': 262, 'completion_time': 0.217582418, 'prompt_time': 0.006607235, 'queue_time': 0.016999004, 'total_time': 0.224189653}, 'model_name': 'mixtral-8x7b-32768', 'system_fingerprint': 'fp_c5f20b5bb1', 'finish_reason': 'stop', 'logprobs': None} id='run-73f93d02-e937-476a-8006-c2008305027c-0' usage_metadata={'input_tokens': 120, 'output_tokens': 142, 'total_tokens': 262}\n"
     ]
    }
   ],
   "source": [
    "from langchain_groq import ChatGroq\n",
    "import json\n",
    "\n",
    "llm = ChatGroq(\n",
    "    model=\"mixtral-8x7b-32768\",\n",
    "    temperature=0,\n",
    "    groq_api_key = \"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\"\n",
    ")\n",
    "\n",
    "python_code = \"\"\"\n",
    "def add(a, b):\n",
    "return a + b\n",
    "\"\"\"\n",
    "\n",
    "# Structured prompt for JSON output\n",
    "code_review_prompt = f\"\"\"\n",
    "You are a professional Python code reviewer. \n",
    "Analyze the following function and provide a structured review.\n",
    "\n",
    "Return the response in strict JSON format with three keys:\n",
    "- \"errors\": A list of syntax or logical errors.\n",
    "- \"suggestions\": A list of improvements.\n",
    "- \"optimized_code\": The corrected and optimized version of the function.\n",
    "\n",
    "Ensure your response is **valid JSON only**.\n",
    "\n",
    "```python\n",
    "{python_code}\n",
    "\"\"\"\n",
    "response = llm.invoke(code_review_prompt)\n",
    "print(response)\n",
    "\n"
   ]
  },
  {
   "cell_type": "code",
   "execution_count": null,
   "id": "9c49d90c-76c1-447b-980a-fdec4c68ba9d",
   "metadata": {},
   "outputs": [],
   "source": []
  },
  {
   "cell_type": "code",
   "execution_count": null,
   "id": "ae01636a-a8dc-44e3-8475-6c6f48ee3b79",
   "metadata": {},
   "outputs": [],
   "source": []
  },
  {
   "cell_type": "code",
   "execution_count": null,
   "id": "f355f851-b3d5-43ec-9327-7fa0c300a479",
   "metadata": {},
   "outputs": [],
   "source": []
  },
  {
   "cell_type": "code",
   "execution_count": null,
   "id": "2649a893-3d2a-45f3-81b3-cdf4e72530e6",
   "metadata": {},
   "outputs": [],
   "source": []
  },
  {
   "cell_type": "code",
   "execution_count": null,
   "id": "3eecd46d-fcbe-402d-b3ab-50084b149915",
   "metadata": {},
   "outputs": [],
   "source": []
  },
  {
   "cell_type": "code",
   "execution_count": null,
   "id": "c8c8b74e-11cd-4657-a4a6-3975d29b18e0",
   "metadata": {},
   "outputs": [],
   "source": []
  }
 ],
 "metadata": {
  "kernelspec": {
   "display_name": "Python 3 (ipykernel)",
   "language": "python",
   "name": "python3"
  },
  "language_info": {
   "codemirror_mode": {
    "name": "ipython",
    "version": 3
   },
   "file_extension": ".py",
   "mimetype": "text/x-python",
   "name": "python",
   "nbconvert_exporter": "python",
   "pygments_lexer": "ipython3",
   "version": "3.13.2"
  }
 },
 "nbformat": 4,
 "nbformat_minor": 5
}
